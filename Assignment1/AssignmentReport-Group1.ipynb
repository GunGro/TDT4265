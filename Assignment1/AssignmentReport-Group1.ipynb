{
 "cells": [
  {
   "cell_type": "markdown",
   "metadata": {},
   "source": [
    "# Assignment 1 Report"
   ]
  },
  {
   "cell_type": "markdown",
   "metadata": {},
   "source": [
    "This is an outline for your report to ease the amount of work required to create your report. Jupyter notebook supports markdown, and I recommend you to check out this [cheat sheet](https://github.com/adam-p/markdown-here/wiki/Markdown-Cheatsheet). If you are not familiar with markdown.\n",
    "\n",
    "Before delivery, **remember to convert this file to PDF**. You can do it in two ways:\n",
    "1. Print the webpage (ctrl+P or cmd+P)\n",
    "2. Export with latex. This is somewhat more difficult, but you'll get somehwat of a \"prettier\" PDF. Go to File -> Download as -> PDF via LaTeX. You might have to install nbconvert and pandoc through conda; `conda install nbconvert pandoc`."
   ]
  },
  {
   "cell_type": "markdown",
   "metadata": {},
   "source": [
    "# Task 1"
   ]
  },
  {
   "cell_type": "markdown",
   "metadata": {},
   "source": [
    "## task 1a)\n",
    "\n",
    "We will show that the element $(n, 1, i)$ of the gradient matrix array has the following form \n",
    "\\begin{equation*}\n",
    "\\dfrac{\\partial C^n(\\omega)}{\\partial \\omega_i} = -(y^n - \\hat{y}^n) x_i^n\n",
    "\\end{equation*}\n",
    "\n",
    "We start with the chain rule.\n",
    "\n",
    "\\begin{equation*}\n",
    "\\dfrac{\\partial C^n(\\omega)}{\\partial \\omega_i} = \\sum\\limits_{j=1}^n\\dfrac{\\partial C^n(\\omega)}{\\partial sum_j}\\dfrac{\\partial sum_j}{\\partial \\omega_i}\n",
    "\\end{equation*}\n",
    "\n",
    "Since we only have one output node, we only have one sum, and thus we can simplify \n",
    "\n",
    "\\begin{equation*}\n",
    "\\dfrac{\\partial C^n(\\omega)}{\\partial \\omega_i} = \\dfrac{\\partial C^n(\\omega)}{\\partial sum}\\dfrac{\\partial sum}{\\partial \\omega_i}.\n",
    "\\end{equation*}\n",
    "Furthermore, the sum is given as\n",
    "\\begin{equation*}\n",
    "sum = \\sum_{i = 1}^m x_i\\omega_i = x^T\\omega\n",
    "\\end{equation*}\n",
    "\n",
    "which means we can say\n",
    "\n",
    "\\begin{equation*}\n",
    "\\dfrac{\\partial C^n(\\omega)}{\\partial \\omega_i} = \\dfrac{\\partial C^n(\\omega)}{\\partial sum} x_i^n.\n",
    "\\end{equation*}\n",
    "\n",
    "The we apply the activation function to the sum. We use the chain rule again. Again, since the activation function is only dependent on the incomming sum to its node, we dont need any sums. The activation function is given by the sigmoid function\n",
    "\n",
    "\\begin{equation*}\n",
    "\\sigma(x) = \\dfrac{1}{1+ \\exp{-x}},\n",
    "\\end{equation*}\n",
    "with derivative\n",
    "\\begin{equation*}\n",
    "\\partial_x\\sigma(x) = \\sigma(x)\\left(1-\\sigma(x)\\right).\n",
    "\\end{equation*}\n",
    "\n",
    "\n",
    "Thus, the gradient simplifies to\n",
    "\\begin{equation*}\n",
    "\\dfrac{\\partial C^n(\\omega)}{\\partial \\omega_i} = \\dfrac{\\partial C^n(\\omega)}{\\partial y^n} \\dfrac{y^n}{\\partial sum^n} x_i^n = \\dfrac{\\partial C^n(\\omega)}{\\partial y^n} y^n(1-y^n) x_i^n. \n",
    "\\end{equation*}\n",
    "\n",
    "Lastly, the cost function, given by \n",
    "\n",
    "\\begin{equation*}\n",
    "C(y, t) = -t\\ln(y) - (1-t)ln(1-y) \n",
    "\\end{equation*}\n",
    "with derivative\n",
    "\\begin{equation*}\n",
    "\\partial_yC(y, t) = -\\dfrac{t}{y} + \\dfrac{1-t}{1-y} \n",
    "\\end{equation*}\n",
    "\n",
    "which simplifies the expression of the gradient\n",
    "\n",
    "\\begin{equation*}\n",
    "\\dfrac{\\partial C^n(\\omega)}{\\partial \\omega_i} = \\left(-\\dfrac{t^n}{y^n} + \\dfrac{1-t^n}{1-y^n}\\right)  y^n(1-y^n) x_i^n = \\left(-t^n(1-y^n) + y^n(1-t^n)\\right)x_i^n = -(t^n - y^n ) x_i^n. \n",
    "\\end{equation*}\n",
    "\n",
    "Replace $y^n \\rightarrow \\hat{y}^n$ and $t^n \\rightarrow y^n$ to get earlier notation.\n",
    "\n",
    "\n",
    "\n",
    "\n",
    "\n",
    "\n",
    "\n"
   ]
  },
  {
   "cell_type": "markdown",
   "metadata": {},
   "source": [
    "## task 1a)\n",
    "\n",
    "Fill in task 1a image of hand-written notes which are easy to read, or latex equations here"
   ]
  },
  {
   "cell_type": "markdown",
   "metadata": {},
   "source": [
    "# Task 2"
   ]
  },
  {
   "cell_type": "markdown",
   "metadata": {},
   "source": [
    "## Task 2b)\n",
    "![](task2b_binary_train_loss.png)"
   ]
  },
  {
   "cell_type": "markdown",
   "metadata": {},
   "source": [
    "## Task 2c)\n",
    "![](task2b_binary_train_accuracy.png)"
   ]
  },
  {
   "cell_type": "markdown",
   "metadata": {},
   "source": [
    "## Task 2d)\n",
    "FILL IN ANSWER"
   ]
  },
  {
   "cell_type": "markdown",
   "metadata": {},
   "source": [
    "## Task 2e)\n",
    "FILL IN ANSWER\n",
    "![](task2e_train_accuracy_shuffle_difference.png)"
   ]
  },
  {
   "cell_type": "markdown",
   "metadata": {},
   "source": [
    "# Task 3"
   ]
  },
  {
   "cell_type": "markdown",
   "metadata": {},
   "source": [
    "## Task 3b)\n",
    "![](task3b_softmax_train_loss.png)"
   ]
  },
  {
   "cell_type": "markdown",
   "metadata": {},
   "source": [
    "## Task 3c)\n",
    "![](task3b_softmax_train_accuracy.png)"
   ]
  },
  {
   "cell_type": "markdown",
   "metadata": {},
   "source": [
    "## Task 3d)\n",
    "FILL IN ANSWER"
   ]
  },
  {
   "cell_type": "markdown",
   "metadata": {},
   "source": [
    "# Task 4"
   ]
  },
  {
   "cell_type": "markdown",
   "metadata": {},
   "source": [
    "## Task 4a)\n",
    "\n",
    "Fill in image of hand-written notes which are easy to read, or latex equations here"
   ]
  },
  {
   "cell_type": "markdown",
   "metadata": {},
   "source": [
    "## Task 4b)\n",
    "FILL IN ANSWER\n",
    "\n",
    "![](task4b_softmax_weight.png)"
   ]
  },
  {
   "cell_type": "markdown",
   "metadata": {},
   "source": [
    "## Task 4c)\n",
    "FILL IN ANSWER\n",
    "\n",
    "![](task4c_l2_reg_accuracy.png)"
   ]
  },
  {
   "cell_type": "markdown",
   "metadata": {},
   "source": [
    "## Task 4d)\n",
    "![](task4d_l2_reg_norms.png)"
   ]
  },
  {
   "cell_type": "markdown",
   "metadata": {},
   "source": [
    "## Task 4e)\n",
    "FILL IN ANSWER"
   ]
  }
 ],
 "metadata": {
  "kernelspec": {
   "display_name": "Python 3",
   "language": "python",
   "name": "python3"
  },
  "language_info": {
   "codemirror_mode": {
    "name": "ipython",
    "version": 3
   },
   "file_extension": ".py",
   "mimetype": "text/x-python",
   "name": "python",
   "nbconvert_exporter": "python",
   "pygments_lexer": "ipython3",
   "version": "3.7.4"
  }
 },
 "nbformat": 4,
 "nbformat_minor": 4
}
